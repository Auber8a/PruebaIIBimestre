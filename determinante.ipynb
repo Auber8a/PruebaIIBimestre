{
  "cells": [
    {
      "cell_type": "markdown",
      "metadata": {
        "id": "view-in-github",
        "colab_type": "text"
      },
      "source": [
        "<a href=\"https://colab.research.google.com/github/Auber8a/PruebaIIBimestre/blob/main/determinante.ipynb\" target=\"_parent\"><img src=\"https://colab.research.google.com/assets/colab-badge.svg\" alt=\"Open In Colab\"/></a>"
      ]
    },
    {
      "cell_type": "code",
      "execution_count": null,
      "metadata": {
        "id": "Lh8IPUURZQm5"
      },
      "outputs": [],
      "source": [
        "%load_ext autoreload"
      ]
    },
    {
      "cell_type": "markdown",
      "metadata": {
        "id": "zaJDvxV_ZQm_"
      },
      "source": [
        "# Examen"
      ]
    },
    {
      "cell_type": "code",
      "source": [
        "# -*- coding: utf-8 -*-\n",
        "\"\"\"\n",
        "Python 3\n",
        "05 / 07 / 2024\n",
        "@author: z_tjona\n",
        "\n",
        "\"I find that I don't understand things unless I try to program them.\"\n",
        "-Donald E. Knuth\n",
        "\"\"\"\n",
        "\n",
        "# ----------------------------- logging --------------------------\n",
        "import logging\n",
        "from sys import stdout\n",
        "from datetime import datetime\n",
        "\n",
        "logging.basicConfig(\n",
        "    level=logging.INFO,\n",
        "    format=\"[%(asctime)s][%(levelname)s] %(message)s\",\n",
        "    stream=stdout,\n",
        "    datefmt=\"%m-%d %H:%M:%S\",\n",
        ")\n",
        "logging.info(datetime.now())\n",
        "\n",
        "import numpy as np\n",
        "\n",
        "\n",
        "# ####################################################################\n",
        "def eliminacion_gaussiana(A: np.ndarray) -> np.ndarray:\n",
        "    \"\"\"Resuelve un sistema de ecuaciones lineales mediante el método de eliminación gaussiana.\n",
        "\n",
        "    ## Parameters\n",
        "\n",
        "    ``A``: matriz aumentada del sistema de ecuaciones lineales. Debe ser de tamaño n-by-(n+1), donde n es el número de incógnitas.\n",
        "\n",
        "    ## Return\n",
        "\n",
        "    ``solucion``: vector con la solución del sistema de ecuaciones lineales.\n",
        "\n",
        "    \"\"\"\n",
        "    if not isinstance(A, np.ndarray):\n",
        "        logging.debug(\"Convirtiendo A a numpy array.\")\n",
        "        A = np.array(A)\n",
        "    assert A.shape[0] == A.shape[1] - 1, \"La matriz A debe ser de tamaño n-by-(n+1).\"\n",
        "    n = A.shape[0]\n",
        "\n",
        "    for i in range(0, n - 1):  # loop por columna\n",
        "\n",
        "        # --- encontrar pivote\n",
        "        p = None  # default, first element\n",
        "        for pi in range(i, n):\n",
        "            if A[pi, i] == 0:\n",
        "                # must be nonzero\n",
        "                continue\n",
        "\n",
        "            if p is None:\n",
        "                # first nonzero element\n",
        "                p = pi\n",
        "                continue\n",
        "\n",
        "            if abs(A[pi, i]) < abs(A[p, i]):\n",
        "                p = pi\n",
        "\n",
        "        if p is None:\n",
        "            # no pivot found.\n",
        "            raise ValueError(\"No existe solución única.\")\n",
        "\n",
        "        if p != i:\n",
        "            # swap rows\n",
        "            logging.debug(f\"Intercambiando filas {i} y {p}\")\n",
        "            _aux = A[i, :].copy()\n",
        "            A[i, :] = A[p, :].copy()\n",
        "            A[p, :] = _aux\n",
        "\n",
        "        # --- Eliminación: loop por fila\n",
        "        for j in range(i + 1, n):\n",
        "            m = A[j, i] / A[i, i]\n",
        "            A[j, i:] = A[j, i:] - m * A[i, i:]\n",
        "\n",
        "        logging.info(f\"\\n{A}\")\n",
        "\n",
        "    if A[n - 1, n - 1] == 0:\n",
        "        raise ValueError(\"No existe solución única.\")\n",
        "\n",
        "        print(f\"\\n{A}\")\n",
        "    # --- Sustitución hacia atrás\n",
        "    solucion = np.zeros(n)\n",
        "    solucion[n - 1] = A[n - 1, n] / A[n - 1, n - 1]\n",
        "\n",
        "    for i in range(n - 2, -1, -1):\n",
        "        suma = 0\n",
        "        for j in range(i + 1, n):\n",
        "            suma += A[i, j] * solucion[j]\n",
        "        solucion[i] = (A[i, n] - suma) / A[i, i]\n",
        "\n",
        "    return solucion\n",
        "\n",
        "\n",
        "# ####################################################################\n",
        "def descomposicion_LU(A: np.ndarray) -> tuple[np.ndarray, np.ndarray]:\n",
        "    \"\"\"Realiza la descomposición LU de una matriz cuadrada A.\n",
        "    [IMPORTANTE] No se realiza pivoteo.\n",
        "\n",
        "    ## Parameters\n",
        "\n",
        "    ``A``: matriz cuadrada de tamaño n-by-n.\n",
        "\n",
        "    ## Return\n",
        "\n",
        "    ``L``: matriz triangular inferior.\n",
        "\n",
        "    ``U``: matriz triangular superior. Se obtiene de la matriz ``A`` después de aplicar la eliminación gaussiana.\n",
        "    \"\"\"\n",
        "\n",
        "    A = np.array(\n",
        "        A, dtype=float\n",
        "    )  # convertir en float, porque si no, puede convertir como entero\n",
        "\n",
        "    assert A.shape[0] == A.shape[1], \"La matriz A debe ser cuadrada.\"\n",
        "    n = A.shape[0]\n",
        "\n",
        "    L = np.zeros((n, n), dtype=float)\n",
        "\n",
        "    for i in range(0, n):  # loop por columna\n",
        "\n",
        "        # --- deterimnar pivote\n",
        "        if A[i, i] == 0:\n",
        "            raise ValueError(\"No existe solución única.\")\n",
        "\n",
        "        # --- Eliminación: loop por fila\n",
        "        L[i, i] = 1\n",
        "        for j in range(i + 1, n):\n",
        "            m = A[j, i] / A[i, i]\n",
        "            A[j, i:] = A[j, i:] - m * A[i, i:]\n",
        "\n",
        "            L[j, i] = m\n",
        "\n",
        "        logging.info(f\"\\n{A}\")\n",
        "\n",
        "    if A[n - 1, n - 1] == 0:\n",
        "        raise ValueError(\"No existe solución única.\")\n",
        "\n",
        "    return L, A\n",
        "\n",
        "\n",
        "# ####################################################################\n",
        "def resolver_LU(L: np.ndarray, U: np.ndarray, b: np.ndarray) -> np.ndarray:\n",
        "    \"\"\"Resuelve un sistema de ecuaciones lineales mediante la descomposición LU.\n",
        "\n",
        "    ## Parameters\n",
        "\n",
        "    ``L``: matriz triangular inferior.\n",
        "\n",
        "    ``U``: matriz triangular superior.\n",
        "\n",
        "    ``b``: vector de términos independientes.\n",
        "\n",
        "    ## Return\n",
        "\n",
        "    ``solucion``: vector con la solución del sistema de ecuaciones lineales.\n",
        "\n",
        "    \"\"\"\n",
        "\n",
        "    n = L.shape[0]\n",
        "\n",
        "    # --- Sustitución hacia adelante\n",
        "    logging.info(\"Sustitución hacia adelante\")\n",
        "\n",
        "    y = np.zeros((n, 1), dtype=float)\n",
        "\n",
        "    y[0] = b[0] / L[0, 0]\n",
        "\n",
        "    for i in range(1, n):\n",
        "        suma = 0\n",
        "        for j in range(i):\n",
        "            suma += L[i, j] * y[j]\n",
        "        y[i] = (b[i] - suma) / L[i, i]\n",
        "\n",
        "    logging.info(f\"y = \\n{y}\")\n",
        "\n",
        "    # --- Sustitución hacia atrás\n",
        "    logging.info(\"Sustitución hacia atrás\")\n",
        "    sol = np.zeros((n, 1), dtype=float)\n",
        "\n",
        "    sol[-1] = y[-1] / U[-1, -1]\n",
        "\n",
        "    for i in range(n - 2, -1, -1):\n",
        "        logging.info(f\"i = {i}\")\n",
        "        suma = 0\n",
        "        for j in range(i + 1, n):\n",
        "            suma += U[i, j] * sol[j]\n",
        "        logging.info(f\"suma = {suma}\")\n",
        "        logging.info(f\"U[i, i] = {U[i, i]}\")\n",
        "        logging.info(f\"y[i] = {y[i]}\")\n",
        "        sol[i] = (y[i] - suma) / U[i, i]\n",
        "\n",
        "    logging.debug(f\"x = \\n{sol}\")\n",
        "    return sol\n",
        "\n",
        "\n",
        "# ####################################################################\n",
        "def matriz_aumentada(A: np.ndarray, b: np.ndarray) -> np.ndarray:\n",
        "    \"\"\"Construye la matriz aumentada de un sistema de ecuaciones lineales.\n",
        "\n",
        "    ## Parameters\n",
        "\n",
        "    ``A``: matriz de coeficientes.\n",
        "\n",
        "    ``b``: vector de términos independientes.\n",
        "\n",
        "    ## Return\n",
        "\n",
        "    ``a``:\n",
        "\n",
        "    \"\"\"\n",
        "    if not isinstance(A, np.ndarray):\n",
        "        logging.debug(\"Convirtiendo A a numpy array.\")\n",
        "        A = np.array(A, dtype=float)\n",
        "    if not isinstance(b, np.ndarray):\n",
        "        b = np.array(b, dtype=float)\n",
        "    assert A.shape[0] == b.shape[0], \"Las dimensiones de A y b no coinciden.\"\n",
        "    return np.hstack((A, b.reshape(-1, 1)))\n",
        "\n",
        "\n",
        "# ####################################################################\n",
        "def separar_m_aumentada(Ab: np.ndarray) -> tuple[np.ndarray, np.ndarray]:\n",
        "    \"\"\"Separa la matriz aumentada en la matriz de coeficientes y el vector de términos independientes.\n",
        "\n",
        "    ## Parameters\n",
        "    ``Ab``: matriz aumentada.\n",
        "\n",
        "    ## Return\n",
        "    ``A``: matriz de coeficientes.\n",
        "    ``b``: vector de términos independientes.\n",
        "    \"\"\"\n",
        "    logging.debug(f\"Ab = \\n{Ab}\")\n",
        "    if not isinstance(Ab, np.ndarray):\n",
        "        logging.debug(\"Convirtiendo Ab a numpy array\")\n",
        "        Ab = np.array(Ab, dtype=float)\n",
        "    return Ab[:, :-1], Ab[:, -1].reshape(-1, 1)"
      ],
      "metadata": {
        "id": "9sXCgj-nhTC4"
      },
      "execution_count": null,
      "outputs": []
    },
    {
      "cell_type": "markdown",
      "metadata": {
        "id": "3KwWFuGBZQnB"
      },
      "source": [
        "## Determinante"
      ]
    },
    {
      "cell_type": "code",
      "execution_count": null,
      "metadata": {
        "id": "VStAqyqOZQnD"
      },
      "outputs": [],
      "source": [
        "# %autoreload 2\n",
        "# from src import (\n",
        "#     eliminacion_gaussiana,\n",
        "#     descomposicion_LU,\n",
        "#     resolver_LU,\n",
        "#     matriz_aumentada,\n",
        "#     separar_m_aumentada,\n",
        "# )\n",
        "\n",
        "\n",
        "# ####################################################################\n",
        "def calc_determinante(A: list[list[float]]) -> float:\n",
        "    \"\"\"Función que calcula el determinante usando el método...\n",
        "    [Descomposición LU, eliminación gaussiana, Gauss-Jordan, Gauss-Jacobi o Gauss-Seidel]\n",
        "\n",
        "    ## Parameters\n",
        "    ``A``: Matriz cuadrada de tamaño n x n\n",
        "\n",
        "    ## Return\n",
        "    ``detA``: Determinante de la matriz A\n",
        "\n",
        "    \"\"\"\n",
        "    # completar\n",
        "    # from src import descomposicion_LU\n",
        "\n",
        "    det = 1\n",
        "    L, U = descomposicion_LU(A)\n",
        "\n",
        "\n",
        "    for i in range(0, len(U)):\n",
        "        det *= U[i][i]\n",
        "\n",
        "    return det\n"
      ]
    },
    {
      "cell_type": "markdown",
      "metadata": {
        "id": "ntpPiVi9ZQnF"
      },
      "source": [
        "# Ejercicio 1"
      ]
    },
    {
      "cell_type": "code",
      "execution_count": null,
      "metadata": {
        "colab": {
          "base_uri": "https://localhost:8080/"
        },
        "id": "RQx54nrBZQnG",
        "outputId": "7ce796cb-3e2f-4489-80da-1cabe057a4e6"
      },
      "outputs": [
        {
          "output_type": "execute_result",
          "data": {
            "text/plain": [
              "9912776.000000015"
            ]
          },
          "metadata": {},
          "execution_count": 7
        }
      ],
      "source": [
        "A1 = [\n",
        "    [-4, 2, -4, -4, 1, 2, 5, 3, 5, 1],\n",
        "    [1, 0, 4, 3, 0, -2, 3, 0, 1, 5],\n",
        "    [5, 5, -4, 5, -4, 2, 2, 2, 4, 4],\n",
        "    [-1, 3, 4, -1, -4, 0, 5, 0, 0, 5],\n",
        "    [4, 1, 4, 2, 0, 0, 3, -1, 0, 2],\n",
        "    [2, -2, 1, -1, -2, -3, 2, -2, 4, -1],\n",
        "    [3, -2, -3, -2, -1, -3, 5, -1, 5, 0],\n",
        "    [3, 4, -3, 3, -2, 2, -4, -4, 1, 5],\n",
        "    [-4, 0, 3, 3, -3, -2, -2, 0, 5, -4],\n",
        "    [-2, 4, 4, -2, -1, 1, 5, -1, 3, -3],\n",
        "]\n",
        "calc_determinante(A1)"
      ]
    },
    {
      "cell_type": "markdown",
      "metadata": {
        "id": "1fhgXQEYZQnH"
      },
      "source": [
        "# Ejercicio 2"
      ]
    },
    {
      "cell_type": "code",
      "execution_count": null,
      "metadata": {
        "colab": {
          "base_uri": "https://localhost:8080/",
          "height": 321
        },
        "id": "CUDKcom0ZQnI",
        "outputId": "28bf604e-6542-4e70-82ef-577424de0cf8"
      },
      "outputs": [
        {
          "output_type": "error",
          "ename": "ValueError",
          "evalue": "No existe solución única.",
          "traceback": [
            "\u001b[0;31m---------------------------------------------------------------------------\u001b[0m",
            "\u001b[0;31mValueError\u001b[0m                                Traceback (most recent call last)",
            "\u001b[0;32m<ipython-input-11-c58864e028f7>\u001b[0m in \u001b[0;36m<cell line: 11>\u001b[0;34m()\u001b[0m\n\u001b[1;32m      9\u001b[0m     \u001b[0;34m[\u001b[0m\u001b[0;34m-\u001b[0m\u001b[0;36m2\u001b[0m\u001b[0;34m,\u001b[0m \u001b[0;36m1\u001b[0m\u001b[0;34m,\u001b[0m \u001b[0;34m-\u001b[0m\u001b[0;36m3\u001b[0m\u001b[0;34m,\u001b[0m \u001b[0;36m0\u001b[0m\u001b[0;34m,\u001b[0m \u001b[0;36m5\u001b[0m\u001b[0;34m,\u001b[0m \u001b[0;36m4\u001b[0m\u001b[0;34m,\u001b[0m \u001b[0;36m4\u001b[0m\u001b[0;34m,\u001b[0m \u001b[0;34m-\u001b[0m\u001b[0;36m4\u001b[0m\u001b[0;34m]\u001b[0m\u001b[0;34m,\u001b[0m\u001b[0;34m\u001b[0m\u001b[0;34m\u001b[0m\u001b[0m\n\u001b[1;32m     10\u001b[0m ]\n\u001b[0;32m---> 11\u001b[0;31m \u001b[0mcalc_determinante\u001b[0m\u001b[0;34m(\u001b[0m\u001b[0mA2\u001b[0m\u001b[0;34m)\u001b[0m\u001b[0;34m\u001b[0m\u001b[0;34m\u001b[0m\u001b[0m\n\u001b[0m",
            "\u001b[0;32m<ipython-input-6-4178a5ca27b8>\u001b[0m in \u001b[0;36mcalc_determinante\u001b[0;34m(A)\u001b[0m\n\u001b[1;32m     25\u001b[0m \u001b[0;34m\u001b[0m\u001b[0m\n\u001b[1;32m     26\u001b[0m     \u001b[0mdet\u001b[0m \u001b[0;34m=\u001b[0m \u001b[0;36m1\u001b[0m\u001b[0;34m\u001b[0m\u001b[0;34m\u001b[0m\u001b[0m\n\u001b[0;32m---> 27\u001b[0;31m     \u001b[0mL\u001b[0m\u001b[0;34m,\u001b[0m \u001b[0mU\u001b[0m \u001b[0;34m=\u001b[0m \u001b[0mdescomposicion_LU\u001b[0m\u001b[0;34m(\u001b[0m\u001b[0mA\u001b[0m\u001b[0;34m)\u001b[0m\u001b[0;34m\u001b[0m\u001b[0;34m\u001b[0m\u001b[0m\n\u001b[0m\u001b[1;32m     28\u001b[0m \u001b[0;34m\u001b[0m\u001b[0m\n\u001b[1;32m     29\u001b[0m \u001b[0;34m\u001b[0m\u001b[0m\n",
            "\u001b[0;32m<ipython-input-4-b6d431c1cd1d>\u001b[0m in \u001b[0;36mdescomposicion_LU\u001b[0;34m(A)\u001b[0m\n\u001b[1;32m    125\u001b[0m         \u001b[0;31m# --- deterimnar pivote\u001b[0m\u001b[0;34m\u001b[0m\u001b[0;34m\u001b[0m\u001b[0m\n\u001b[1;32m    126\u001b[0m         \u001b[0;32mif\u001b[0m \u001b[0mA\u001b[0m\u001b[0;34m[\u001b[0m\u001b[0mi\u001b[0m\u001b[0;34m,\u001b[0m \u001b[0mi\u001b[0m\u001b[0;34m]\u001b[0m \u001b[0;34m==\u001b[0m \u001b[0;36m0\u001b[0m\u001b[0;34m:\u001b[0m\u001b[0;34m\u001b[0m\u001b[0;34m\u001b[0m\u001b[0m\n\u001b[0;32m--> 127\u001b[0;31m             \u001b[0;32mraise\u001b[0m \u001b[0mValueError\u001b[0m\u001b[0;34m(\u001b[0m\u001b[0;34m\"No existe solución única.\"\u001b[0m\u001b[0;34m)\u001b[0m\u001b[0;34m\u001b[0m\u001b[0;34m\u001b[0m\u001b[0m\n\u001b[0m\u001b[1;32m    128\u001b[0m \u001b[0;34m\u001b[0m\u001b[0m\n\u001b[1;32m    129\u001b[0m         \u001b[0;31m# --- Eliminación: loop por fila\u001b[0m\u001b[0;34m\u001b[0m\u001b[0;34m\u001b[0m\u001b[0m\n",
            "\u001b[0;31mValueError\u001b[0m: No existe solución única."
          ]
        }
      ],
      "source": [
        "A2 = [\n",
        "    [2, 2, 4, 5, -2, -3, 2, -2],\n",
        "    [-1, -1, 3, 2, 1, 1, -4, 4],\n",
        "    [2, 5, -3, -3, -2, 2, 5, 3],\n",
        "    [-2, -4, 0, 1, -1, 5, -4, -1],\n",
        "    [1, -2, -1, 5, 5, 2, 1, -2],\n",
        "    [5, 4, 0, 3, 4, -1, -3, -2],\n",
        "    [4, -4, 1, 2, 3, 3, -1, 3],\n",
        "    [-2, 1, -3, 0, 5, 4, 4, -4],\n",
        "]\n",
        "calc_determinante(A2)"
      ]
    }
  ],
  "metadata": {
    "kernelspec": {
      "display_name": "Python 3",
      "language": "python",
      "name": "python3"
    },
    "language_info": {
      "codemirror_mode": {
        "name": "ipython",
        "version": 3
      },
      "file_extension": ".py",
      "mimetype": "text/x-python",
      "name": "python",
      "nbconvert_exporter": "python",
      "pygments_lexer": "ipython3",
      "version": "3.10.11"
    },
    "colab": {
      "provenance": [],
      "include_colab_link": true
    }
  },
  "nbformat": 4,
  "nbformat_minor": 0
}